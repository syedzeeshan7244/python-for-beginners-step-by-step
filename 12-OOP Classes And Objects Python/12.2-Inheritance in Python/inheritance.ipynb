{
 "cells": [
  {
   "cell_type": "markdown",
   "metadata": {},
   "source": [
    "# Inheritance in Python \n",
    "\n",
    "Inheritance is a fundamental concept in OOP that allows a class to inherit attributes and methods from another class. This lesson covers single inheritance and multiple inheritance demonstrating how to create and use them in python"
   ]
  },
  {
   "cell_type": "code",
   "execution_count": 1,
   "metadata": {},
   "outputs": [
    {
     "name": "stdout",
     "output_type": "stream",
     "text": [
      "The person will drive the CNG car\n"
     ]
    }
   ],
   "source": [
    "## Inheritance  (Single Inheritance )\n",
    "## Parent Class\n",
    "class Car:    \n",
    "    def __init__(self,windows,doors,engineType): ## Constructor \n",
    "        self.windows = windows\n",
    "        self.doors = doors\n",
    "        self.engineType = engineType\n",
    "    def drive(self):\n",
    "        print(f\"The person will drive the {self.engineType} car\")\n",
    "        \n",
    "# Creating the car object\n",
    "mehran= Car(4,4,\"CNG\")    \n",
    "mehran.drive()          "
   ]
  },
  {
   "cell_type": "code",
   "execution_count": 5,
   "metadata": {},
   "outputs": [
    {
     "name": "stdout",
     "output_type": "stream",
     "text": [
      "Does Toyoyta corolla support the self driving feature :  False\n"
     ]
    }
   ],
   "source": [
    "# Inheriting the properties of CAR class. \n",
    "class Toyoyota(Car):\n",
    "    def __init__(self,windows,door,engineType,is_selfdriving):\n",
    "        super().__init__(windows,door,engineType)  # calling the parent class constructor by doing so\n",
    "        self.is_selfdriving = is_selfdriving\n",
    "    def selfdriving(self):\n",
    "        print(f\"Does Toyoyta corolla support the self driving feature :  {self.is_selfdriving}\")    \n",
    "\n",
    "# Creating the child class object\n",
    "corolla =  Toyoyota(4,4,\"Petrol\",False)\n",
    "corolla.selfdriving()\n",
    "        "
   ]
  },
  {
   "cell_type": "markdown",
   "metadata": {},
   "source": [
    "Multiple Inheritance, When a class inherits from more than one base class"
   ]
  },
  {
   "cell_type": "code",
   "execution_count": 8,
   "metadata": {},
   "outputs": [
    {
     "name": "stdout",
     "output_type": "stream",
     "text": [
      "Buddy says woof\n",
      "The Owner is Zeeshan\n"
     ]
    }
   ],
   "source": [
    "# Base Class 1.\n",
    "class Animal:\n",
    "    def __init__(self, name):\n",
    "        self.name = name\n",
    "    def speak(self): \n",
    "        print(\"The implementation subclass will provide the imlementation of this method\") \n",
    "          \n",
    "# Base Class 2 \n",
    "class Pet:\n",
    "    def __init__(self,owner):\n",
    "        self.owner = owner\n",
    "\n",
    "\n",
    "# Derived Class\n",
    "class Dog(Animal,Pet):\n",
    "    def __init__(self, name , owner):\n",
    "        Animal.__init__(self,name)\n",
    "        Pet.__init__(self,owner)\n",
    "        \n",
    "    def speak(self):\n",
    "        return  f\"{self.name} says woof\" \n",
    "    \n",
    "    def owner_dog(self):\n",
    "            return  f\"The Owner is {self.owner}\" \n",
    "    \n",
    "# Creating the Object\n",
    "\n",
    "dog=Dog(\"Buddy\",\"Zeeshan\")\n",
    "print(dog.speak())  \n",
    "print(dog.owner_dog())        \n",
    "        "
   ]
  }
 ],
 "metadata": {
  "kernelspec": {
   "display_name": "Python 3",
   "language": "python",
   "name": "python3"
  },
  "language_info": {
   "codemirror_mode": {
    "name": "ipython",
    "version": 3
   },
   "file_extension": ".py",
   "mimetype": "text/x-python",
   "name": "python",
   "nbconvert_exporter": "python",
   "pygments_lexer": "ipython3",
   "version": "3.12.0"
  }
 },
 "nbformat": 4,
 "nbformat_minor": 2
}
