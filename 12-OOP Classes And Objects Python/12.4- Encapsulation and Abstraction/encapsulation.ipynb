{
 "cells": [
  {
   "cell_type": "markdown",
   "metadata": {},
   "source": [
    "### Encapsulation and abstraction in Python\n",
    "\n",
    "Encapsulation and abstraction are two fundamental principal of OOP that help in designing robust, maintainable , and resuable code. Encapsulation invloves in bundling data and methods that operates on the data within a single unit, while abstraction involves hiding complex implementation details and exposing only the necessary features."
   ]
  },
  {
   "cell_type": "markdown",
   "metadata": {},
   "source": [
    "# Encapsulation "
   ]
  },
  {
   "cell_type": "markdown",
   "metadata": {},
   "source": [
    "Encapsulation is the concept of wrapping data(variables) and methods together as a single unit. it restricts direct access to some of the object's component , which is a means of preventing accidental interference and misuse of the data\n"
   ]
  },
  {
   "cell_type": "code",
   "execution_count": 8,
   "metadata": {},
   "outputs": [
    {
     "name": "stdout",
     "output_type": "stream",
     "text": [
      "Sayyed Zeeshan\n",
      "32\n",
      "Sayyed Zeeshan\n"
     ]
    }
   ],
   "source": [
    "## Encapsulation with getters and setters methods\n",
    "## public, protected and private variables\n",
    "## Access Modifier \n",
    "\n",
    "class Person:\n",
    "    \n",
    "    def __init__(self,name,age):\n",
    "        self.name = name  ## Public variables \n",
    "        self.age = age    ## Public variables\n",
    "\n",
    "def get_name(person):\n",
    "    return person.name        \n",
    "\n",
    "person = Person(\"Sayyed Zeeshan\" , 32)\n",
    "print(person.name)\n",
    "print(person.age)\n",
    "print(get_name(person))\n",
    "\n",
    "        \n",
    "        \n",
    "        \n",
    "\n"
   ]
  },
  {
   "cell_type": "code",
   "execution_count": 7,
   "metadata": {},
   "outputs": [
    {
     "data": {
      "text/plain": [
       "['__class__',\n",
       " '__delattr__',\n",
       " '__dict__',\n",
       " '__dir__',\n",
       " '__doc__',\n",
       " '__eq__',\n",
       " '__format__',\n",
       " '__ge__',\n",
       " '__getattribute__',\n",
       " '__getstate__',\n",
       " '__gt__',\n",
       " '__hash__',\n",
       " '__init__',\n",
       " '__init_subclass__',\n",
       " '__le__',\n",
       " '__lt__',\n",
       " '__module__',\n",
       " '__ne__',\n",
       " '__new__',\n",
       " '__reduce__',\n",
       " '__reduce_ex__',\n",
       " '__repr__',\n",
       " '__setattr__',\n",
       " '__sizeof__',\n",
       " '__str__',\n",
       " '__subclasshook__',\n",
       " '__weakref__',\n",
       " 'age',\n",
       " 'name']"
      ]
     },
     "execution_count": 7,
     "metadata": {},
     "output_type": "execute_result"
    }
   ],
   "source": [
    "dir(person)"
   ]
  },
  {
   "cell_type": "code",
   "execution_count": 14,
   "metadata": {},
   "outputs": [],
   "source": [
    "### Private members of the class\n",
    "### Private memebrs cannot be access outside of its class.\n",
    "class Person:    \n",
    "    def __init__(self,name,age,gender):\n",
    "        self.__name = name  ## private variables  , this how we define the private member\n",
    "        self.__age = age    ## private variables\n",
    "        self.gender = gender\n",
    "\n",
    "## This is the example of private members can not be access outside it class\n",
    "## I'll get the error over here for accessing the private variabe from outside of the class\n",
    "def get_name(person):\n",
    "    return person.__name\n",
    "\n",
    "person1 = Person(\"Sunny\",32,\"Male\") \n",
    "#get_name(person1)\n",
    "       \n"
   ]
  },
  {
   "cell_type": "code",
   "execution_count": 16,
   "metadata": {},
   "outputs": [
    {
     "name": "stdout",
     "output_type": "stream",
     "text": [
      "Sayyed Zeeshan\n"
     ]
    }
   ],
   "source": [
    "### Protected members of the class\n",
    "### Protected memebrs only access from its derived class.\n",
    "\n",
    "class Person:    \n",
    "    \n",
    "    def __init__(self,name,age,gender):\n",
    "        self._name = name  ## protected variables  , this how we define the protected member\n",
    "        self._age = age    ## protected variables\n",
    "        self.gender = gender\n",
    "        \n",
    "class Employee(Person):\n",
    "    def __init__(self,name,age,gender):\n",
    "        super().__init__(name,age,gender)\n",
    "         \n",
    "employee = Employee(\"Sayyed Zeeshan\" , 32 , \"Male\")\n",
    "print(employee._name)\n",
    "       \n"
   ]
  },
  {
   "cell_type": "code",
   "execution_count": 20,
   "metadata": {},
   "outputs": [
    {
     "name": "stdout",
     "output_type": "stream",
     "text": [
      "Mr. Sayyed Zeeshan\n",
      "32\n",
      "Sunny\n",
      "33\n",
      "Age cannot be negative\n"
     ]
    }
   ],
   "source": [
    "### Encapsulation with getters and setters\n",
    "\n",
    "class Person:\n",
    "    def __init__(self,name,age):\n",
    "        self.__name = name ## Private variables\n",
    "        self.__age = age   ## private variable are declared __ \n",
    "    ## Getter Method for name\n",
    "    def get_name(self):\n",
    "        return self.__name\n",
    "    ## Setter method for name\n",
    "    def set_name(self,name):\n",
    "        self.__name = name\n",
    "    ## Getter method for age    \n",
    "    def get_age(self):\n",
    "        return self.__age\n",
    "    ## setter method for age\n",
    "    def set_age(self,age):\n",
    "       if age  > 0 :\n",
    "           self.__age = age\n",
    "       else:\n",
    "           print(\"Age cannot be negative\")   \n",
    "        \n",
    "        \n",
    "person = Person(\"Mr. Sayyed Zeeshan\",32)       \n",
    "#  Access and modifier private variables using getters and setter\n",
    "print(person.get_name())\n",
    "print(person.get_age())\n",
    "            \n",
    "person.set_name(\"Sunny\")\n",
    "print(person.get_name())\n",
    "person.set_age(33)\n",
    "print(person.get_age())\n",
    "person.set_age(-5)    \n",
    "        \n",
    "        "
   ]
  }
 ],
 "metadata": {
  "kernelspec": {
   "display_name": "Python 3",
   "language": "python",
   "name": "python3"
  },
  "language_info": {
   "codemirror_mode": {
    "name": "ipython",
    "version": 3
   },
   "file_extension": ".py",
   "mimetype": "text/x-python",
   "name": "python",
   "nbconvert_exporter": "python",
   "pygments_lexer": "ipython3",
   "version": "3.12.0"
  }
 },
 "nbformat": 4,
 "nbformat_minor": 2
}
