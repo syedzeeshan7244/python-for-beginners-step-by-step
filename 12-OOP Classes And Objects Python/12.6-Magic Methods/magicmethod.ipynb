{
 "cells": [
  {
   "cell_type": "markdown",
   "metadata": {},
   "source": [
    "# Magic Method / Dunder Method in Python\n",
    "\n",
    "Magic methods in python, also known as dunder methods(double underscore methods ), are special methods that start and end with double underscores. These methods enable you to define the behavious of objects  for build-in operations, such as arthmetic operations, comparisons , and more.\n",
    "\n",
    "# Magic methods \n",
    "\n",
    "Magic methods are pre-defined methods in python that you can override to change the behavior of your objects. Some common magic methos  include\n",
    "\n",
    "1.  init (__init__)  : initialize a new instance of a class.\n",
    "2.  str (__str__)    : Returns a string representation of an object.\n",
    "3.  repr (__repr__)  : Returns an official String representation on an object.\n",
    "4.  len ( __len__)   : Returns the lenght of an object.\n",
    "5.  getitem(__getitem__): Gets and item from a container. \n",
    "6.  setitem(__setitem__) : Sets and item in a container.\n"
   ]
  },
  {
   "cell_type": "code",
   "execution_count": 1,
   "metadata": {},
   "outputs": [
    {
     "name": "stdout",
     "output_type": "stream",
     "text": [
      "<__main__.Person object at 0x10754b260>\n"
     ]
    }
   ],
   "source": [
    "# Basic Method \n",
    "\n",
    "class Person:\n",
    "    def __init__(self,name,age):\n",
    "        self.name = name \n",
    "        self.age = age\n",
    "        \n",
    "person = Person(\"Sayyed Zeeshan\",32)\n",
    "print(person)        \n",
    "        \n"
   ]
  },
  {
   "cell_type": "code",
   "execution_count": 2,
   "metadata": {},
   "outputs": [
    {
     "name": "stdout",
     "output_type": "stream",
     "text": [
      "Name : Sayyed Zeeshan , Age : 32\n"
     ]
    }
   ],
   "source": [
    "# Basic Method \n",
    "\n",
    "class Person:\n",
    "    def __init__(self,name,age):\n",
    "        self.name = name \n",
    "        self.age = age\n",
    "    def __str__(self):\n",
    "        return f\"Name : {self.name} , Age : {self.age}\"\n",
    "           \n",
    "        \n",
    "person = Person(\"Sayyed Zeeshan\",32)\n",
    "print(person)        \n",
    "        "
   ]
  }
 ],
 "metadata": {
  "kernelspec": {
   "display_name": "Python 3",
   "language": "python",
   "name": "python3"
  },
  "language_info": {
   "codemirror_mode": {
    "name": "ipython",
    "version": 3
   },
   "file_extension": ".py",
   "mimetype": "text/x-python",
   "name": "python",
   "nbconvert_exporter": "python",
   "pygments_lexer": "ipython3",
   "version": "3.12.0"
  }
 },
 "nbformat": 4,
 "nbformat_minor": 2
}
