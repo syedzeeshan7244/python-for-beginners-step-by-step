{
 "cells": [
  {
   "cell_type": "markdown",
   "metadata": {},
   "source": [
    "# Abstraction \n",
    "\n",
    "Abstraction is the concept of hiding the complex implementation details and showing only the necessary features of an object. This help in reducing programming complexity and efforts."
   ]
  },
  {
   "cell_type": "code",
   "execution_count": 3,
   "metadata": {},
   "outputs": [
    {
     "name": "stdout",
     "output_type": "stream",
     "text": [
      "Car engine started. \n",
      "The vehicle is used for driving\n"
     ]
    }
   ],
   "source": [
    "from abc import ABC , abstractmethod  ## This is for absract class, The \n",
    "\n",
    "## Abstract base class \n",
    "\n",
    "class Vehicle(ABC):\n",
    "    \n",
    "    def drive(self):\n",
    "        print(\"The vehicle is used for driving\")\n",
    "        \n",
    "    @abstractmethod         ## For creating abstract method we have to set this decorator\n",
    "    def start_engine(self):\n",
    "        pass    \n",
    "\n",
    "\n",
    "class Car(Vehicle):\n",
    "    # For inheriting abstract class we have to give the definition of the start_engine method \n",
    "     def start_engine(self):\n",
    "         print(\"Car engine started. \")\n",
    "         \n",
    "         \n",
    "         \n",
    "def operate_vehicle(vehicle):\n",
    "    vehicle.start_engine()\n",
    "    vehicle.drive()\n",
    "    \n",
    "    \n",
    "car = Car()\n",
    "operate_vehicle(car)                 "
   ]
  }
 ],
 "metadata": {
  "kernelspec": {
   "display_name": "Python 3",
   "language": "python",
   "name": "python3"
  },
  "language_info": {
   "codemirror_mode": {
    "name": "ipython",
    "version": 3
   },
   "file_extension": ".py",
   "mimetype": "text/x-python",
   "name": "python",
   "nbconvert_exporter": "python",
   "pygments_lexer": "ipython3",
   "version": "3.12.0"
  }
 },
 "nbformat": 4,
 "nbformat_minor": 2
}
