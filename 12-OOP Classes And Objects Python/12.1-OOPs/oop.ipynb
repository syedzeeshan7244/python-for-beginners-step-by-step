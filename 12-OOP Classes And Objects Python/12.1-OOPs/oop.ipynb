{
 "cells": [
  {
   "cell_type": "markdown",
   "metadata": {},
   "source": [
    "# Classes and objects\n",
    "Object oriented programming(OOP) is a programming paradigm that uses \"objects\" to design applications and computer programs. OOP allows for modeling real-wordld scenarious using classes and objects. this lesson covers the basics of creating classes and objects, including instance variable and methods."
   ]
  },
  {
   "cell_type": "code",
   "execution_count": 1,
   "metadata": {},
   "outputs": [
    {
     "name": "stdout",
     "output_type": "stream",
     "text": [
      "<class '__main__.car'>\n"
     ]
    }
   ],
   "source": [
    "### A class is a blueprint for creating objects. Attributes, methods.\n",
    "\n",
    "class car:\n",
    "    pass\n",
    "\n",
    "audi= car()\n",
    "bmw = car()\n",
    "\n",
    "print(type(audi))"
   ]
  },
  {
   "cell_type": "code",
   "execution_count": 4,
   "metadata": {},
   "outputs": [
    {
     "name": "stdout",
     "output_type": "stream",
     "text": [
      "<__main__.dog object at 0x1079b4e60>\n",
      "Bunty\n",
      "4\n"
     ]
    }
   ],
   "source": [
    "# Instance Variables and Method\n",
    "class dog:\n",
    "    ## Constructor\n",
    "    def __init__(self,name,age):\n",
    "        self.name=name     ## These are the attributes of the dog\n",
    "        self.age=age       ## This is also the attribute of the dog \n",
    "        \n",
    "## Creating an object \n",
    "dog1= dog('Bunty',4)\n",
    "print(dog1)       ## Memory location of the object created.\n",
    "print(dog1.name)  ## print the dogs name.\n",
    "print(dog1.age)   ## print the dogs age."
   ]
  },
  {
   "cell_type": "code",
   "execution_count": 5,
   "metadata": {},
   "outputs": [
    {
     "name": "stdout",
     "output_type": "stream",
     "text": [
      "Bunty says woof\n"
     ]
    }
   ],
   "source": [
    "# Defining a class with instance methods\n",
    "class Dog:\n",
    "    \n",
    "    def __init__(self, name , age):\n",
    "        self.name = name\n",
    "        self.age= age\n",
    "    \n",
    "    def bark(self):\n",
    "        print(f\"{self.name} says woof\")   \n",
    "\n",
    "dog2 = Dog(\"Bunty\",4)        \n",
    "dog2.bark()\n",
    "        "
   ]
  },
  {
   "cell_type": "code",
   "execution_count": 6,
   "metadata": {},
   "outputs": [],
   "source": [
    "## Modeling a Bank Account \n",
    "\n",
    "## Defining a class for Bank Account \n",
    "\n",
    "class BankAccount:\n",
    "    def __init__( self, owner , balance = 0):\n",
    "        self.owner = owner \n",
    "        self.balance = balance\n",
    "        \n",
    "    def deposit(self , amount ):\n",
    "        self.balance += amount\n",
    "    \n",
    "    def withdrawal(self, amount):\n",
    "        if amount > self.balance:\n",
    "            print(f\"You cannot with draw the amount because its greater than the amount you have in your account\")\n",
    "        else:\n",
    "            self.balance -= amount\n",
    "            print(f\" Withdrawed : Your new account balance is {self.balance}\")    \n",
    "    \n",
    "    def get_balance( self ):\n",
    "        print(f\"You account balance is {self.balance}\")\n",
    "        \n",
    "        \n",
    "# Creating an account\n",
    "account = BankAccount(\"Zeeshan\",5000)\n",
    "# Calling instance methods\n",
    "account.get_balance()\n",
    "account.deposit(100)\n",
    "account.get_balance()\n",
    "account.withdrawal(200)\n",
    "account.get_balance()\n",
    "\n",
    "\n",
    "            \n",
    "            \n",
    "        "
   ]
  },
  {
   "cell_type": "code",
   "execution_count": 11,
   "metadata": {},
   "outputs": [
    {
     "name": "stdout",
     "output_type": "stream",
     "text": [
      " Withdrawed : Your new account balance is 5000\n",
      "You account balance is 5000\n"
     ]
    }
   ],
   "source": []
  }
 ],
 "metadata": {
  "kernelspec": {
   "display_name": "Python 3",
   "language": "python",
   "name": "python3"
  },
  "language_info": {
   "codemirror_mode": {
    "name": "ipython",
    "version": 3
   },
   "file_extension": ".py",
   "mimetype": "text/x-python",
   "name": "python",
   "nbconvert_exporter": "python",
   "pygments_lexer": "ipython3",
   "version": "3.12.0"
  }
 },
 "nbformat": 4,
 "nbformat_minor": 2
}
