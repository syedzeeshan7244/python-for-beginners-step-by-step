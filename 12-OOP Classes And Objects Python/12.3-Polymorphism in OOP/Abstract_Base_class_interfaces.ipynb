{
 "cells": [
  {
   "cell_type": "markdown",
   "metadata": {},
   "source": [
    "# Abstract Base Class\n",
    "\n",
    "Abstract base class are used to define common methods for a group of related objects.\n",
    "They can enforce that derived classes implements particular methods , promoting consistency across different implementations.\n"
   ]
  },
  {
   "cell_type": "code",
   "execution_count": 4,
   "metadata": {},
   "outputs": [
    {
     "name": "stdout",
     "output_type": "stream",
     "text": [
      "Car egnine has started\n"
     ]
    }
   ],
   "source": [
    "from abc import ABC , abstractmethod \n",
    "\n",
    "# Defining an abstract class\n",
    "class Vehicle(ABC): ## passing the abstract class in it, making it the abstract class\n",
    "    @abstractmethod\n",
    "    def start_engine(self):\n",
    "        pass\n",
    " \n",
    "# Derived Class 1    \n",
    "class Car(Vehicle):\n",
    "    def start_engine(self):\n",
    "        return \"Car egnine has started\"\n",
    "\n",
    "class Motorcycle(Vehicle):\n",
    "    def start_engine(self): \n",
    "        return \"Motor cycle engine has started\"\n",
    "    \n",
    "#Function that demonstrate the polymorphism \n",
    "\n",
    "def start_vehicle(vehicle):\n",
    "    print(vehicle.start_engine())\n",
    "        \n",
    "    \n",
    "# Creating the object of the Car and motorcycle \n",
    "car  = Car()\n",
    "motor = Motorcycle()\n",
    "\n",
    "start_vehicle(car)"
   ]
  }
 ],
 "metadata": {
  "kernelspec": {
   "display_name": "Python 3",
   "language": "python",
   "name": "python3"
  },
  "language_info": {
   "codemirror_mode": {
    "name": "ipython",
    "version": 3
   },
   "file_extension": ".py",
   "mimetype": "text/x-python",
   "name": "python",
   "nbconvert_exporter": "python",
   "pygments_lexer": "ipython3",
   "version": "3.12.0"
  }
 },
 "nbformat": 4,
 "nbformat_minor": 2
}
