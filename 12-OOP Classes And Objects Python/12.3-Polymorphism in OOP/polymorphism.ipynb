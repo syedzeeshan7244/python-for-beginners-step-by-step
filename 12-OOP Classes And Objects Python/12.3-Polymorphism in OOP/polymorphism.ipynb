{
 "cells": [
  {
   "cell_type": "markdown",
   "metadata": {},
   "source": [
    "# Polymorphism \n",
    "\n",
    "polymorphism is a core concpt in OOP that allows object of different classes to be treated as objects of a common superclass. it provides a way to perform a single action in different forms. Polymorphism is typicaly achieved through method overriding and interfaces\n"
   ]
  },
  {
   "cell_type": "markdown",
   "metadata": {},
   "source": [
    "# Method Overridng \n",
    "\n",
    "Method overriding allows a child class to provide a specific implementation of a method that is already defines in its parent class\n"
   ]
  },
  {
   "cell_type": "code",
   "execution_count": 3,
   "metadata": {},
   "outputs": [
    {
     "name": "stdout",
     "output_type": "stream",
     "text": [
      "Woof!\n",
      "Meow!\n",
      "Woof!\n",
      "Meow!\n"
     ]
    }
   ],
   "source": [
    "## Base Class\n",
    "class Animal:\n",
    "    def speak(self):\n",
    "        return \"Sound of the animal\"    \n",
    "## Derived Class 1\n",
    "class Dog(Animal):\n",
    "    def speak(self):        \n",
    "        return \"Woof!\"\n",
    "## Derived Class 2 \n",
    "class Cat(Animal):\n",
    "    def speak(self):    # Method Overriding\n",
    "        return \"Meow!\"\n",
    "\n",
    "## Function that demonstrate polymorphism \n",
    "def animal_speak(animal):\n",
    "    print(animal.speak())\n",
    "    \n",
    "    \n",
    "    \n",
    "### Creating object\n",
    "dog=Dog()\n",
    "cat= Cat()\n",
    "\n",
    "print(dog.speak())   \n",
    "print(cat.speak())\n",
    "animal_speak(dog)\n",
    "animal_speak(cat)\n"
   ]
  },
  {
   "cell_type": "code",
   "execution_count": 6,
   "metadata": {},
   "outputs": [
    {
     "name": "stdout",
     "output_type": "stream",
     "text": [
      "the area of the share is 20 \n",
      "the area of the share is 28.259999999999998 \n"
     ]
    }
   ],
   "source": [
    "# Polymorphism with functions and methods \n",
    "\n",
    "# Base Class\n",
    "class Shape:\n",
    "    \n",
    "    def area(self):\n",
    "        return \"The area of the figure\"\n",
    "    \n",
    "# Derived Class 1\n",
    "class Rectangle(Shape):\n",
    "    \n",
    "    def __init__( self , width , height ):\n",
    "        self.width = width\n",
    "        self.height = height\n",
    "        \n",
    "    def area( self ):\n",
    "        return self.width * self.height\n",
    "                \n",
    "# Derived Class 2 \n",
    "class circle(Shape):\n",
    "    \n",
    "    def __init__( self , radius ):\n",
    "        self.radius = radius\n",
    "        \n",
    "    def area( self ):\n",
    "        return 3.14 * self.radius * self.radius\n",
    "                           \n",
    " # Function that demonstrate the polymorphism \n",
    " \n",
    "def print_area(shape):\n",
    "    print(f\"the area of the share is {shape.area()} \")     \n",
    "    \n",
    "    \n",
    "rectangle =  Rectangle(4,5)\n",
    "circl = circle(3) \n",
    "\n",
    "print_area(rectangle) \n",
    "print_area(circl) \n",
    "\n"
   ]
  }
 ],
 "metadata": {
  "kernelspec": {
   "display_name": "Python 3",
   "language": "python",
   "name": "python3"
  },
  "language_info": {
   "codemirror_mode": {
    "name": "ipython",
    "version": 3
   },
   "file_extension": ".py",
   "mimetype": "text/x-python",
   "name": "python",
   "nbconvert_exporter": "python",
   "pygments_lexer": "ipython3",
   "version": "3.12.0"
  }
 },
 "nbformat": 4,
 "nbformat_minor": 2
}
