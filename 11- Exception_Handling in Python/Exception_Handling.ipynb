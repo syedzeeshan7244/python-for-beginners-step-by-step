{
 "cells": [
  {
   "cell_type": "markdown",
   "metadata": {},
   "source": [
    "# Understanding Exceptions\n",
    "Excption Handling in python allows you to handle errors gracefully and take corrective actions without stopping the execution of the program. This lesson will cover the basic exception, including how to use try,except, else, and finally blocks."
   ]
  },
  {
   "cell_type": "markdown",
   "metadata": {},
   "source": [
    "# What are exception ?"
   ]
  },
  {
   "cell_type": "markdown",
   "metadata": {},
   "source": [
    "Exceptions are event that disrupt the normal flow of the program. They occur when an error is encountered during program execution. Common exceptons include.\n",
    "\n",
    "1. ZeroDivision : Divide by zero \n",
    "2. FileNotFoundError: File Not Found \n",
    "3. Value Error : Invalid value. \n",
    "4. TypeError : Invalid Type.\n"
   ]
  },
  {
   "cell_type": "code",
   "execution_count": 7,
   "metadata": {},
   "outputs": [
    {
     "name": "stdout",
     "output_type": "stream",
     "text": [
      "The variable has not been assigned\n"
     ]
    }
   ],
   "source": [
    "# Exception try, except block:\n",
    "try:\n",
    "    a=b\n",
    "except:\n",
    "    print(\"The variable has not been assigned\")    "
   ]
  },
  {
   "cell_type": "code",
   "execution_count": 10,
   "metadata": {},
   "outputs": [
    {
     "name": "stdout",
     "output_type": "stream",
     "text": [
      "name 'b' is not defined\n"
     ]
    }
   ],
   "source": [
    "# Exception try, except block:\n",
    "try:\n",
    "    a=b    \n",
    "except NameError as excep:  ## We used the same class which is responsible to handle this exception\n",
    "    print(excep)    "
   ]
  },
  {
   "cell_type": "code",
   "execution_count": 14,
   "metadata": {},
   "outputs": [
    {
     "name": "stdout",
     "output_type": "stream",
     "text": [
      "division by zero\n",
      "Please enter denominator greater than zero\n"
     ]
    }
   ],
   "source": [
    "# Zero Division Error\n",
    "\n",
    "try:\n",
    "    result=1/0\n",
    "except ZeroDivisionError as exp:\n",
    "    print(exp)\n",
    "    print(\"Please enter denominator greater than zero\")\n"
   ]
  },
  {
   "cell_type": "code",
   "execution_count": 23,
   "metadata": {},
   "outputs": [
    {
     "name": "stdout",
     "output_type": "stream",
     "text": [
      "name 'b' is not defined\n"
     ]
    }
   ],
   "source": [
    "# If we don't know the exception than how will we handle the exception\n",
    "\n",
    "try:\n",
    "    result=1/2\n",
    "    a=b\n",
    "except ZeroDivisionError as exp:\n",
    "    print(exp)\n",
    "    print(\"Please enter denominator greater than zero\")\n",
    "except Exception as parent:    # Exception is parent class of every excption\n",
    "    print(parent)              # Exception must be handled last, otherwise if we handle it as first block then all exception will be caught by this block\n"
   ]
  },
  {
   "cell_type": "code",
   "execution_count": 26,
   "metadata": {},
   "outputs": [],
   "source": [
    "\n",
    "try:\n",
    "    num=int(input(\"Enter a Number\"))\n",
    "    result=10/num\n",
    "except ValueError as valueError:\n",
    "    print(\"This is not a valid number\") \n",
    "except ZeroDivisionError as  zeroDivision:\n",
    "    print(\"Please enter a number greater than zero\")  \n",
    "except Exception as exp:\n",
    "    print(exp)         \n",
    "    "
   ]
  },
  {
   "cell_type": "code",
   "execution_count": 27,
   "metadata": {},
   "outputs": [
    {
     "name": "stdout",
     "output_type": "stream",
     "text": [
      "The result is '5.0'\n"
     ]
    }
   ],
   "source": [
    "# try , except , else block\n",
    "# If no exception occur in the prgram than the else block will be executed \n",
    "# When an exeption will be occur then it be handled in the concerned block that time no else block will be executed\n",
    "# If non of the excpetion happen then else block will be executed\n",
    "try:\n",
    "    num=int(input(\"Enter a Number : \"))\n",
    "    result= 10/num\n",
    "except ValueError as ve:\n",
    "    print(\"Not a Valid number\") \n",
    "except ZeroDivisionError as zd:\n",
    "    print(\"Enter a number greater than zero \")\n",
    "except Exception as exp:\n",
    "    print(exp) \n",
    "else:\n",
    "    print(f\"The result is '{result}'\")              "
   ]
  },
  {
   "cell_type": "code",
   "execution_count": 28,
   "metadata": {},
   "outputs": [
    {
     "name": "stdout",
     "output_type": "stream",
     "text": [
      "The result is '0.8333333333333334'\n",
      "Executioin completed\n"
     ]
    }
   ],
   "source": [
    "# Try, Except, else and finally block\n",
    "# Else block only get executed when no exception occur \n",
    "# If there is any error then it will be handled by the respective block \n",
    "# Finally is the block it will get executed eventually wheather the error is commint or not it will execute \n",
    "try:\n",
    "    num=int(input(\"Enter a Number : \"))\n",
    "    result= 10/num\n",
    "except ValueError as ve:\n",
    "    print(\"Not a Valid number\") \n",
    "except ZeroDivisionError as zd:\n",
    "    print(\"Enter a number greater than zero \")\n",
    "except Exception as exp:\n",
    "    print(exp) \n",
    "else:\n",
    "    print(f\"The result is '{result}'\")        \n",
    "finally:\n",
    "    print(\"Executioin completed\")    "
   ]
  },
  {
   "cell_type": "code",
   "execution_count": 32,
   "metadata": {},
   "outputs": [
    {
     "name": "stdout",
     "output_type": "stream",
     "text": [
      "name 'b' is not defined\n",
      "file closed\n"
     ]
    }
   ],
   "source": [
    "# Exception Handling with respect to file handling\n",
    "\n",
    "try: \n",
    "    file = open('example.txt', 'r')\n",
    "    content =file.read()\n",
    "    a=b\n",
    "    print(content)\n",
    "except FileNotFoundError as FNF:\n",
    "    print(\"The file does not exist\")\n",
    "except Exception as exp:\n",
    "    print(exp) \n",
    "else:\n",
    "    print(\"File was successfully opened\")\n",
    "finally:\n",
    "    if 'file' in locals() or not file.closed():\n",
    "        file.close()\n",
    "        print('file closed')     "
   ]
  }
 ],
 "metadata": {
  "kernelspec": {
   "display_name": "Python 3",
   "language": "python",
   "name": "python3"
  },
  "language_info": {
   "codemirror_mode": {
    "name": "ipython",
    "version": 3
   },
   "file_extension": ".py",
   "mimetype": "text/x-python",
   "name": "python",
   "nbconvert_exporter": "python",
   "pygments_lexer": "ipython3",
   "version": "3.12.0"
  }
 },
 "nbformat": 4,
 "nbformat_minor": 2
}
